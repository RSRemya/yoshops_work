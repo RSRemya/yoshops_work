{
 "cells": [
  {
   "cell_type": "code",
   "execution_count": 1,
   "id": "6097edd7",
   "metadata": {},
   "outputs": [],
   "source": [
    "import sys\n",
    "from PIL import ImageDraw, ImageFont, Image\n",
    "from bs4 import BeautifulSoup\n",
    "from bs4 import BeautifulSoup as bs\n",
    "from urllib import request\n",
    "import requests\n",
    "import re\n",
    "import qrcode\n",
    "from selenium import webdriver\n",
    "import time\n",
    "from selenium.webdriver.common.by import By\n",
    "from selenium.webdriver.common.action_chains import ActionChains\n",
    "from urllib.request import urlopen as uReq\n",
    "from docx import Document\n",
    "import cv2\n",
    "import mysql.connector as conn\n",
    "import pytesseract"
   ]
  },
  {
   "cell_type": "code",
   "execution_count": null,
   "id": "94ad0652",
   "metadata": {},
   "outputs": [],
   "source": []
  },
  {
   "cell_type": "code",
   "execution_count": 16,
   "id": "0d12271e",
   "metadata": {},
   "outputs": [],
   "source": [
    "class Scraper:\n",
    "    def __init__(self,path,name,designation,employee_id,email_id,contact_no,alternative_no,doc_link,OCR_PATH):\n",
    "        self.path = path\n",
    "        self.name = name\n",
    "        self.designation = designation\n",
    "        self.employee_id = employee_id\n",
    "        self.email_id = email_id\n",
    "        self.contact_no = contact_no\n",
    "        self.alternative_no = alternative_no    \n",
    "        self.doc_link = str(link)\n",
    "        self.mydb = conn.connect(host = \"localhost\", user = \"root\", passwd = \"1234\",database = \"yoshops\")\n",
    "        pytesseract.pytesseract.tesseract_cmd = OCR_PATH\n",
    "    \n",
    "\n",
    "        try:\n",
    "            self.font1 = ImageFont.truetype(self.path + '/Montserrat-BlackItalic.ttf',size=30)\n",
    "            self.font2 = ImageFont.truetype(self.path + \"/Montserrat-SemiBold.ttf\",size=25)\n",
    "            self.font3 = ImageFont.truetype(self.path + \"/Montserrat-medium.ttf\",size=23)\n",
    "        except Exception as e:\n",
    "            print(e)\n",
    "\n",
    "        \n",
    "    def get_qrcode(self):\n",
    "        try:\n",
    "\n",
    "            self.qr = qrcode.make(str(self.doc_link))\n",
    "            self.qr.save(self.name+\"qr.jpg\")\n",
    "\n",
    "        except Exception as e:\n",
    "            print(e)\n",
    "            # logging.error(\"Error: \",e)\n",
    "\n",
    "    def image_accumulate(self):\n",
    "        try:\n",
    "            #self.template = Image.open(self.path + '/template1.png').resize((739, 1135))\n",
    "            self.pic = Image.open(self.path + '/id_front.jpg').resize((739, 1135))\n",
    "            #self.pic.paste(self.template)#, (32, 36, 771, 1171))\n",
    "            self.title_template = Image.open(self.path + '/title.jpg').resize((482, 104))\n",
    "            self.pic.paste(self.title_template, (154, 70, 636, 174))\n",
    "            self.main_template = Image.open(self.path + \"/\"+self.name+'.jpg').resize((358, 317))\n",
    "            self.pic.paste(self.main_template, (190,220))\n",
    "            self.draw = ImageDraw.Draw(self.pic)\n",
    "            #self.draw.text((160, 570), \"Employee ID: \", fill='rgb(0,0,0)', font=self.font2)\n",
    "            self.draw.text((240, 600), self.name, fill='rgb(205,0,0)', font=self.font1)\n",
    "            # for duration data\n",
    "            self.draw.text((240, 660), self.designation, fill='rgb(0,0,0)', font=self.font2)\n",
    "            # for coupon data\n",
    "            self.draw.text((203, 780), self.employee_id, fill='rgb(255,255,255)', font=self.font1)\n",
    "            self.qr = Image.open(self.name+\"qr\"+\".jpg\").resize((160, 160))\n",
    "            self.pic.paste(self.qr,(520,764))\n",
    "            self.pic = self.pic.save(self.path + \"/\" + self.name + '.png')\n",
    "            print(\"Front page succesfully generated\")\n",
    "            # logging.info(\"Banner created Successfully../../../../\")\n",
    "        except Exception as e:\n",
    "            print(e)\n",
    "    def data_insertion(self):\n",
    "        \n",
    "        cursor= self.mydb.cursor()\n",
    "        sql = \"INSERT INTO id_card_data (Intern_id,inter_name,Designation,Email_id,Mobile_number) VALUES (%s,%s,%s,%s, %s)\"\n",
    "        val = (self.employee_id,self.name,self.designation,self.email_id,self.contact_no)\n",
    "        cursor.execute(sql, val)\n",
    "        self.mydb.commit()\n",
    "        print(\"Data has been succesfully stored\")\n",
    "        \n",
    "\n",
    "    def image_accumulate1(self):\n",
    "        try:\n",
    "            \n",
    "            self.pic = Image.open(self.path + '/id_back.jpg').resize((739, 1135))\n",
    "            self.draw = ImageDraw.Draw(self.pic)\n",
    "            \n",
    "            self.draw.text((208,284), \"Yoshops Intern Details:\", fill='rgb(0,0,0)', font=self.font1)\n",
    "            self.draw.text((228,329), self.email_id, fill='rgb(0,0,0)', font=self.font3)\n",
    "            self.draw.text((314, 374), self.contact_no, fill='rgb(0,0,0)', font=self.font3)\n",
    "            self.draw.text((314, 419), self.alternative_no, fill='rgb(0,0,0)', font=self.font3)          \n",
    "            \n",
    "            \n",
    "            self.draw.text((258,474), \"Company Details:\", fill='rgb(0,0,0)', font=self.font1)\n",
    "            self.draw.text((174, 519), \"34,Sundareswarar Koil Street Saidapet,\", fill='rgb(0,0,0)', font=self.font3)\n",
    "            self.draw.text((204, 564), \"Chennai, Tamil Nadu, PIN -600015\", fill='rgb(0,0,0)', font=self.font3)\n",
    "            self.draw.text((310, 609), \"+91-9080749858\", fill='rgb(0,0,0)', font=self.font3)\n",
    "            self.draw.text((294, 654), \"info@yoshops.com\", fill='rgb(0,0,0)', font=self.font3)\n",
    "            self.pic = self.pic.save(self.path + \"/\" + self.name +\"backpage\" + '.png')\n",
    "            # logging.info(\"Banner created Successfully../../../../\")\n",
    "            print(\"Back page succesfully generated\")\n",
    "        except Exception as e:\n",
    "            print(e)\n",
    "   "
   ]
  },
  {
   "cell_type": "code",
   "execution_count": 20,
   "id": "77d8957f",
   "metadata": {
    "scrolled": false
   },
   "outputs": [
    {
     "name": "stdout",
     "output_type": "stream",
     "text": [
      "Enter Name of Intern:Supraja Yerraveda\n",
      "Enter Designation of Intern:Data Analysis Intern\n",
      "Enter empid id:YO2022101403\n",
      "Enter Email Address of Inter:suprajayerraveda.yoshops@gmail.com\n",
      "Enter Phone Number of Intern:9182695240\n",
      "Enter Alternate Phone Number:9676280104\n",
      "Enter google drive link having files:https://drive.google.com/drive/folders/1aAFHBAAIp9xeUXMCmfjR-i1aH3L86-5X\n"
     ]
    }
   ],
   "source": [
    "#path = input(\"Enter Path where all are is store:\")\n",
    "name = input(\"Enter Name of Intern:\")\n",
    "desi = input(\"Enter Designation of Intern:\")\n",
    "empl_id = input(\"Enter empid id:\")\n",
    "email  = input(\"Enter Email Address of Inter:\")\n",
    "con = input(\"Enter Phone Number of Intern:\")\n",
    "altno = input(\"Enter Alternate Phone Number:\")\n",
    "link = input(\"Enter google drive link having files:\")\n",
    "#tesseract_path = input(\"Enter tesseract path:\") "
   ]
  },
  {
   "cell_type": "code",
   "execution_count": 4,
   "id": "ce31f728",
   "metadata": {},
   "outputs": [
    {
     "name": "stdout",
     "output_type": "stream",
     "text": [
      "Enter Path where all are is store:C:\\Users\\HP\\Yoshops\n",
      "Enter tesseract path:C:\\Users\\HP\\Yoshops\\Tesseract-OCR\\tesseract.exe\n"
     ]
    }
   ],
   "source": [
    "path = input(\"Enter Path where all are is store:\")\n",
    "tesseract_path = input(\"Enter tesseract path:\") "
   ]
  },
  {
   "cell_type": "code",
   "execution_count": 21,
   "id": "79b504e9",
   "metadata": {},
   "outputs": [],
   "source": [
    "a= Scraper(path,name,desi,empl_id,email,con,altno,link,tesseract_path)"
   ]
  },
  {
   "cell_type": "code",
   "execution_count": 22,
   "id": "09e393f4",
   "metadata": {
    "scrolled": true
   },
   "outputs": [
    {
     "name": "stdout",
     "output_type": "stream",
     "text": [
      "Front page succesfully generated\n",
      "Back page succesfully generated\n",
      "Data has been succesfully stored\n"
     ]
    }
   ],
   "source": [
    "#a.final_out_put()\n",
    "a.get_qrcode()\n",
    "a.image_accumulate()\n",
    "a.image_accumulate1()\n",
    "a.data_insertion()"
   ]
  },
  {
   "cell_type": "code",
   "execution_count": null,
   "id": "a2cbacec",
   "metadata": {},
   "outputs": [],
   "source": []
  }
 ],
 "metadata": {
  "kernelspec": {
   "display_name": "Python 3 (ipykernel)",
   "language": "python",
   "name": "python3"
  },
  "language_info": {
   "codemirror_mode": {
    "name": "ipython",
    "version": 3
   },
   "file_extension": ".py",
   "mimetype": "text/x-python",
   "name": "python",
   "nbconvert_exporter": "python",
   "pygments_lexer": "ipython3",
   "version": "3.9.12"
  }
 },
 "nbformat": 4,
 "nbformat_minor": 5
}
